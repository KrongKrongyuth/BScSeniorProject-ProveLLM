{
 "cells": [
  {
   "cell_type": "markdown",
   "metadata": {},
   "source": [
    "### Load dataset and Create training set"
   ]
  },
  {
   "cell_type": "code",
   "execution_count": 1,
   "metadata": {},
   "outputs": [
    {
     "data": {
      "text/plain": [
       "True"
      ]
     },
     "execution_count": 1,
     "metadata": {},
     "output_type": "execute_result"
    }
   ],
   "source": [
    "import pandas as pd\n",
    "import numpy as np\n",
    "import json\n",
    "\n",
    "from pathlib import Path\n",
    "from dotenv import load_dotenv; load_dotenv()"
   ]
  },
  {
   "cell_type": "code",
   "execution_count": 14,
   "metadata": {},
   "outputs": [],
   "source": [
    "proofwiki_raw = json.loads(Path('/Users/ton_kkrongyuth/Senior Project/Aj.Pannapa/Prove_LLM/Data/NATURALPROOFS_DATASET/naturalproofs_proofwiki.json').read_text())\n",
    "# stacks_raw = json.loads(Path('/Users/ton_kkrongyuth/Senior Project/Aj.Pannapa/Prove_LLM/Data/NATURALPROOFS_DATASET/naturalproofs_stacks.json').read_text())\n",
    "\n",
    "theorem_df = pd.DataFrame(columns=[\n",
    "    'theorems_content',\n",
    "    'refs_id',\n",
    "    'score'\n",
    "])\n",
    "\n",
    "negative_example = pd.DataFrame(columns=[\n",
    "    'theorems_content',\n",
    "    'refs_id',\n",
    "    'score'\n",
    "])\n",
    "\n",
    "ref_df = pd.DataFrame(columns=[\n",
    "    'refs_id',\n",
    "    'refs_content'\n",
    "])\n",
    "\n",
    "refference = proofwiki_raw['dataset']['definitions']\n",
    "refference.extend(proofwiki_raw['dataset']['others'])\n",
    "\n",
    "def rand_ref_idx(ref_ids:list, ref_list:list, low:int, high:int) -> int:\n",
    "    rand_num = np.random.randint(low, high)\n",
    "    ref_content = ref_list[rand_num - 19734]['contents']\n",
    "    \n",
    "    if rand_num in ref_ids or not ref_content:\n",
    "        return rand_ref_idx(ref_ids, ref_list, low, high)\n",
    "    else:\n",
    "        return rand_num\n",
    "\n",
    "for idx, data in enumerate(proofwiki_raw['dataset']['theorems']):\n",
    "    content = ''.join(data['contents'])\n",
    "    \n",
    "    for ref_ids in data['ref_ids']:\n",
    "        \n",
    "        if ref_ids >= 19734 and ref_ids <= 33160 and content:\n",
    "            theorem_df.at[idx, 'theorems_content'] = content\n",
    "            theorem_df.at[idx, 'refs_id'] = ref_ids\n",
    "            theorem_df.at[idx, 'score'] = float(0.9)\n",
    "\n",
    "for idx, data in enumerate(proofwiki_raw['dataset']['theorems']):\n",
    "    content = ''.join(data['contents'])\n",
    "    \n",
    "    for ref_ids in data['ref_ids']:\n",
    "        ref_idx = rand_ref_idx(\n",
    "            ref_ids=data['ref_ids'],\n",
    "            ref_list=refference,\n",
    "            low=19734,\n",
    "            high=33160)\n",
    "        \n",
    "        if ref_ids >= 19734 and ref_ids <= 33160 and content:\n",
    "            negative_example.at[idx, 'theorems_content'] = content\n",
    "            negative_example.at[idx, 'refs_id'] = ref_idx\n",
    "            negative_example.at[idx, 'score'] = float(0.3)\n",
    "\n",
    "for idx, data in enumerate(refference):\n",
    "    ref_id = data['id']\n",
    "    content = ''.join(data['contents'])\n",
    "    \n",
    "    if ref_id and content:\n",
    "        ref_df.at[idx, 'refs_id'] = ref_id\n",
    "        ref_df.at[idx, 'refs_content'] = content\n",
    "\n",
    "corpus_df = pd.merge(\n",
    "    pd.concat([theorem_df, negative_example], ignore_index=True), \n",
    "    ref_df, \n",
    "    'left', \n",
    "    'refs_id'\n",
    "    )[['theorems_content', 'refs_content', 'score']].dropna(ignore_index=True).sample(frac=1, ignore_index=True)\n",
    "\n",
    "train_ratio = 0.8\n",
    "train_idx = int(corpus_df.shape[0]*train_ratio)-1\n",
    "\n",
    "corpus_df.iloc[:train_idx, :].to_csv('training_set.csv')\n",
    "corpus_df.iloc[train_idx:, :].to_csv('testing_set.csv')"
   ]
  },
  {
   "cell_type": "code",
   "execution_count": 15,
   "metadata": {},
   "outputs": [
    {
     "data": {
      "text/html": [
       "<div>\n",
       "<style scoped>\n",
       "    .dataframe tbody tr th:only-of-type {\n",
       "        vertical-align: middle;\n",
       "    }\n",
       "\n",
       "    .dataframe tbody tr th {\n",
       "        vertical-align: top;\n",
       "    }\n",
       "\n",
       "    .dataframe thead th {\n",
       "        text-align: right;\n",
       "    }\n",
       "</style>\n",
       "<table border=\"1\" class=\"dataframe\">\n",
       "  <thead>\n",
       "    <tr style=\"text-align: right;\">\n",
       "      <th></th>\n",
       "      <th>theorems_content</th>\n",
       "      <th>refs_content</th>\n",
       "      <th>score</th>\n",
       "    </tr>\n",
       "  </thead>\n",
       "  <tbody>\n",
       "    <tr>\n",
       "      <th>0</th>\n",
       "      <td>Let $\\mathbb A$ be one of the [[Definition:Sta...</td>\n",
       "      <td>Let $S$ be a [[Definition:Set|set]].The '''res...</td>\n",
       "      <td>0.3</td>\n",
       "    </tr>\n",
       "    <tr>\n",
       "      <th>1</th>\n",
       "      <td>Consider the [[Definition:Order 3 Magic Square...</td>\n",
       "      <td>Magic Square/Examples/Order 305118044627842422...</td>\n",
       "      <td>0.9</td>\n",
       "    </tr>\n",
       "    <tr>\n",
       "      <th>2</th>\n",
       "      <td>On all the number systems::[[Definition:Natura...</td>\n",
       "      <td>'''Addition''' is the basic [[Definition:Binar...</td>\n",
       "      <td>0.9</td>\n",
       "    </tr>\n",
       "    <tr>\n",
       "      <th>3</th>\n",
       "      <td>Let $T = \\left({S, \\tau}\\right)$ be a [[Defini...</td>\n",
       "      <td>Let $T = \\left({S, \\tau}\\right)$ be a [[Defini...</td>\n",
       "      <td>0.9</td>\n",
       "    </tr>\n",
       "    <tr>\n",
       "      <th>4</th>\n",
       "      <td>Let $N$ be a [[Definition:Class (Class Theory)...</td>\n",
       "      <td>Let $A$ be a [[Definition:Class (Class Theory)...</td>\n",
       "      <td>0.9</td>\n",
       "    </tr>\n",
       "    <tr>\n",
       "      <th>...</th>\n",
       "      <td>...</td>\n",
       "      <td>...</td>\n",
       "      <td>...</td>\n",
       "    </tr>\n",
       "    <tr>\n",
       "      <th>26882</th>\n",
       "      <td>Let $T = \\struct {S, \\tau}$ be a [[Definition:...</td>\n",
       "      <td>Informally, the [[Definition:Set|set]] of all ...</td>\n",
       "      <td>0.3</td>\n",
       "    </tr>\n",
       "    <tr>\n",
       "      <th>26883</th>\n",
       "      <td>Let $S$ be a [[Definition:String|string]], and...</td>\n",
       "      <td>Let $M = \\left({A, d}\\right)$ be a [[Definitio...</td>\n",
       "      <td>0.3</td>\n",
       "    </tr>\n",
       "    <tr>\n",
       "      <th>26884</th>\n",
       "      <td>Let $\\mathcal R$ be a [[Definition:Sigma-Ring|...</td>\n",
       "      <td>A '''set''' is intuitively defined as any aggr...</td>\n",
       "      <td>0.9</td>\n",
       "    </tr>\n",
       "    <tr>\n",
       "      <th>26885</th>\n",
       "      <td>Let $\\preccurlyeq$ be a [[Definition:Total Ord...</td>\n",
       "      <td>Let $f: S \\to T$ be a [[Definition:Mapping|fun...</td>\n",
       "      <td>0.3</td>\n",
       "    </tr>\n",
       "    <tr>\n",
       "      <th>26886</th>\n",
       "      <td>Let $G$ be a [[Definition:Group|group]].Let $G...</td>\n",
       "      <td>A '''trivial group''' is a [[Definition:Group|...</td>\n",
       "      <td>0.9</td>\n",
       "    </tr>\n",
       "  </tbody>\n",
       "</table>\n",
       "<p>26887 rows × 3 columns</p>\n",
       "</div>"
      ],
      "text/plain": [
       "                                        theorems_content  \\\n",
       "0      Let $\\mathbb A$ be one of the [[Definition:Sta...   \n",
       "1      Consider the [[Definition:Order 3 Magic Square...   \n",
       "2      On all the number systems::[[Definition:Natura...   \n",
       "3      Let $T = \\left({S, \\tau}\\right)$ be a [[Defini...   \n",
       "4      Let $N$ be a [[Definition:Class (Class Theory)...   \n",
       "...                                                  ...   \n",
       "26882  Let $T = \\struct {S, \\tau}$ be a [[Definition:...   \n",
       "26883  Let $S$ be a [[Definition:String|string]], and...   \n",
       "26884  Let $\\mathcal R$ be a [[Definition:Sigma-Ring|...   \n",
       "26885  Let $\\preccurlyeq$ be a [[Definition:Total Ord...   \n",
       "26886  Let $G$ be a [[Definition:Group|group]].Let $G...   \n",
       "\n",
       "                                            refs_content score  \n",
       "0      Let $S$ be a [[Definition:Set|set]].The '''res...   0.3  \n",
       "1      Magic Square/Examples/Order 305118044627842422...   0.9  \n",
       "2      '''Addition''' is the basic [[Definition:Binar...   0.9  \n",
       "3      Let $T = \\left({S, \\tau}\\right)$ be a [[Defini...   0.9  \n",
       "4      Let $A$ be a [[Definition:Class (Class Theory)...   0.9  \n",
       "...                                                  ...   ...  \n",
       "26882  Informally, the [[Definition:Set|set]] of all ...   0.3  \n",
       "26883  Let $M = \\left({A, d}\\right)$ be a [[Definitio...   0.3  \n",
       "26884  A '''set''' is intuitively defined as any aggr...   0.9  \n",
       "26885  Let $f: S \\to T$ be a [[Definition:Mapping|fun...   0.3  \n",
       "26886  A '''trivial group''' is a [[Definition:Group|...   0.9  \n",
       "\n",
       "[26887 rows x 3 columns]"
      ]
     },
     "execution_count": 15,
     "metadata": {},
     "output_type": "execute_result"
    }
   ],
   "source": [
    "corpus_df"
   ]
  },
  {
   "cell_type": "markdown",
   "metadata": {},
   "source": [
    "### Train model"
   ]
  },
  {
   "cell_type": "code",
   "execution_count": 27,
   "metadata": {},
   "outputs": [
    {
     "data": {
      "application/vnd.jupyter.widget-view+json": {
       "model_id": "c6d7279e88fa4f3d9e5b46db4690cc31",
       "version_major": 2,
       "version_minor": 0
      },
      "text/plain": [
       "Computing widget examples:   0%|          | 0/1 [00:00<?, ?example/s]"
      ]
     },
     "metadata": {},
     "output_type": "display_data"
    },
    {
     "data": {
      "text/html": [
       "\n",
       "    <div>\n",
       "      \n",
       "      <progress value='12' max='8067' style='width:300px; height:20px; vertical-align: middle;'></progress>\n",
       "      [  12/8067 00:04 < 1:05:40, 2.04 it/s, Epoch 0.00/3]\n",
       "    </div>\n",
       "    <table border=\"1\" class=\"dataframe\">\n",
       "  <thead>\n",
       " <tr style=\"text-align: left;\">\n",
       "      <th>Step</th>\n",
       "      <th>Training Loss</th>\n",
       "    </tr>\n",
       "  </thead>\n",
       "  <tbody>\n",
       "  </tbody>\n",
       "</table><p>"
      ],
      "text/plain": [
       "<IPython.core.display.HTML object>"
      ]
     },
     "metadata": {},
     "output_type": "display_data"
    },
    {
     "ename": "KeyboardInterrupt",
     "evalue": "",
     "output_type": "error",
     "traceback": [
      "\u001b[0;31m---------------------------------------------------------------------------\u001b[0m",
      "\u001b[0;31mKeyboardInterrupt\u001b[0m                         Traceback (most recent call last)",
      "Cell \u001b[0;32mIn[27], line 25\u001b[0m\n\u001b[1;32m     13\u001b[0m trining_args \u001b[38;5;241m=\u001b[39m SentenceTransformerTrainingArguments(\n\u001b[1;32m     14\u001b[0m     output_dir\u001b[38;5;241m=\u001b[39m\u001b[38;5;124m'\u001b[39m\u001b[38;5;124m./temp\u001b[39m\u001b[38;5;124m'\u001b[39m,\n\u001b[1;32m     15\u001b[0m     num_train_epochs\u001b[38;5;241m=\u001b[39m\u001b[38;5;241m3\u001b[39m,\n\u001b[1;32m     16\u001b[0m )\n\u001b[1;32m     18\u001b[0m trainer \u001b[38;5;241m=\u001b[39m SentenceTransformerTrainer(\n\u001b[1;32m     19\u001b[0m     model\u001b[38;5;241m=\u001b[39mmodel,\n\u001b[1;32m     20\u001b[0m     train_dataset\u001b[38;5;241m=\u001b[39mtrain_set,\n\u001b[1;32m     21\u001b[0m     loss\u001b[38;5;241m=\u001b[39mloss,\n\u001b[1;32m     22\u001b[0m     args\u001b[38;5;241m=\u001b[39mtrining_args\n\u001b[1;32m     23\u001b[0m )\n\u001b[0;32m---> 25\u001b[0m \u001b[43mtrainer\u001b[49m\u001b[38;5;241;43m.\u001b[39;49m\u001b[43mtrain\u001b[49m\u001b[43m(\u001b[49m\u001b[43m)\u001b[49m\n",
      "File \u001b[0;32m/opt/homebrew/Caskroom/miniconda/base/envs/senior_project/lib/python3.12/site-packages/transformers/trainer.py:2171\u001b[0m, in \u001b[0;36mTrainer.train\u001b[0;34m(self, resume_from_checkpoint, trial, ignore_keys_for_eval, **kwargs)\u001b[0m\n\u001b[1;32m   2169\u001b[0m         hf_hub_utils\u001b[38;5;241m.\u001b[39menable_progress_bars()\n\u001b[1;32m   2170\u001b[0m \u001b[38;5;28;01melse\u001b[39;00m:\n\u001b[0;32m-> 2171\u001b[0m     \u001b[38;5;28;01mreturn\u001b[39;00m \u001b[43minner_training_loop\u001b[49m\u001b[43m(\u001b[49m\n\u001b[1;32m   2172\u001b[0m \u001b[43m        \u001b[49m\u001b[43margs\u001b[49m\u001b[38;5;241;43m=\u001b[39;49m\u001b[43margs\u001b[49m\u001b[43m,\u001b[49m\n\u001b[1;32m   2173\u001b[0m \u001b[43m        \u001b[49m\u001b[43mresume_from_checkpoint\u001b[49m\u001b[38;5;241;43m=\u001b[39;49m\u001b[43mresume_from_checkpoint\u001b[49m\u001b[43m,\u001b[49m\n\u001b[1;32m   2174\u001b[0m \u001b[43m        \u001b[49m\u001b[43mtrial\u001b[49m\u001b[38;5;241;43m=\u001b[39;49m\u001b[43mtrial\u001b[49m\u001b[43m,\u001b[49m\n\u001b[1;32m   2175\u001b[0m \u001b[43m        \u001b[49m\u001b[43mignore_keys_for_eval\u001b[49m\u001b[38;5;241;43m=\u001b[39;49m\u001b[43mignore_keys_for_eval\u001b[49m\u001b[43m,\u001b[49m\n\u001b[1;32m   2176\u001b[0m \u001b[43m    \u001b[49m\u001b[43m)\u001b[49m\n",
      "File \u001b[0;32m/opt/homebrew/Caskroom/miniconda/base/envs/senior_project/lib/python3.12/site-packages/transformers/trainer.py:2536\u001b[0m, in \u001b[0;36mTrainer._inner_training_loop\u001b[0;34m(self, batch_size, args, resume_from_checkpoint, trial, ignore_keys_for_eval)\u001b[0m\n\u001b[1;32m   2530\u001b[0m \u001b[38;5;28;01mwith\u001b[39;00m context():\n\u001b[1;32m   2531\u001b[0m     tr_loss_step \u001b[38;5;241m=\u001b[39m \u001b[38;5;28mself\u001b[39m\u001b[38;5;241m.\u001b[39mtraining_step(model, inputs, num_items_in_batch)\n\u001b[1;32m   2533\u001b[0m \u001b[38;5;28;01mif\u001b[39;00m (\n\u001b[1;32m   2534\u001b[0m     args\u001b[38;5;241m.\u001b[39mlogging_nan_inf_filter\n\u001b[1;32m   2535\u001b[0m     \u001b[38;5;129;01mand\u001b[39;00m \u001b[38;5;129;01mnot\u001b[39;00m is_torch_xla_available()\n\u001b[0;32m-> 2536\u001b[0m     \u001b[38;5;129;01mand\u001b[39;00m (torch\u001b[38;5;241m.\u001b[39misnan(tr_loss_step) \u001b[38;5;129;01mor\u001b[39;00m \u001b[43mtorch\u001b[49m\u001b[38;5;241;43m.\u001b[39;49m\u001b[43misinf\u001b[49m\u001b[43m(\u001b[49m\u001b[43mtr_loss_step\u001b[49m\u001b[43m)\u001b[49m)\n\u001b[1;32m   2537\u001b[0m ):\n\u001b[1;32m   2538\u001b[0m     \u001b[38;5;66;03m# if loss is nan or inf simply add the average of previous logged losses\u001b[39;00m\n\u001b[1;32m   2539\u001b[0m     tr_loss \u001b[38;5;241m=\u001b[39m tr_loss \u001b[38;5;241m+\u001b[39m tr_loss \u001b[38;5;241m/\u001b[39m (\u001b[38;5;241m1\u001b[39m \u001b[38;5;241m+\u001b[39m \u001b[38;5;28mself\u001b[39m\u001b[38;5;241m.\u001b[39mstate\u001b[38;5;241m.\u001b[39mglobal_step \u001b[38;5;241m-\u001b[39m \u001b[38;5;28mself\u001b[39m\u001b[38;5;241m.\u001b[39m_globalstep_last_logged)\n\u001b[1;32m   2540\u001b[0m \u001b[38;5;28;01melse\u001b[39;00m:\n",
      "\u001b[0;31mKeyboardInterrupt\u001b[0m: "
     ]
    }
   ],
   "source": [
    "from sentence_transformers import SentenceTransformer, SentenceTransformerTrainer, losses\n",
    "from sentence_transformers.training_args import SentenceTransformerTrainingArguments\n",
    "from datasets import Dataset, Value, Features\n",
    "\n",
    "train_set = Dataset.from_csv(path_or_paths='./training_set.csv',\n",
    "                             features=Features({\n",
    "                                'theorems_content':Value(dtype='string'),\n",
    "                                'refs_content':Value(dtype='string'),\n",
    "                                'score':Value(dtype='float64')}))\n",
    "\n",
    "model = SentenceTransformer(\"sentence-transformers/all-MiniLM-L6-v2\")\n",
    "loss = losses.CosineSimilarityLoss(model)\n",
    "trining_args = SentenceTransformerTrainingArguments(\n",
    "    output_dir='./temp',\n",
    "    num_train_epochs=3,\n",
    ")\n",
    "\n",
    "trainer = SentenceTransformerTrainer(\n",
    "    model=model,\n",
    "    train_dataset=train_set,\n",
    "    loss=loss,\n",
    "    args=trining_args\n",
    ")\n",
    "\n",
    "trainer.train()"
   ]
  },
  {
   "cell_type": "markdown",
   "metadata": {},
   "source": [
    "### Test train model"
   ]
  },
  {
   "cell_type": "code",
   "execution_count": null,
   "metadata": {},
   "outputs": [
    {
     "name": "stderr",
     "output_type": "stream",
     "text": [
      "No sentence-transformers model found with name microsoft/mpnet-base. Creating a new one with mean pooling.\n",
      "Some weights of MPNetModel were not initialized from the model checkpoint at microsoft/mpnet-base and are newly initialized: ['mpnet.pooler.dense.bias', 'mpnet.pooler.dense.weight']\n",
      "You should probably TRAIN this model on a down-stream task to be able to use it for predictions and inference.\n"
     ]
    },
    {
     "data": {
      "application/vnd.jupyter.widget-view+json": {
       "model_id": "4a0523db7d3b462eab036995c10c40fc",
       "version_major": 2,
       "version_minor": 0
      },
      "text/plain": [
       "Computing widget examples:   0%|          | 0/1 [00:00<?, ?example/s]"
      ]
     },
     "metadata": {},
     "output_type": "display_data"
    },
    {
     "data": {
      "text/html": [
       "\n",
       "    <div>\n",
       "      \n",
       "      <progress value='100' max='100' style='width:300px; height:20px; vertical-align: middle;'></progress>\n",
       "      [100/100 00:23, Epoch 100/100]\n",
       "    </div>\n",
       "    <table border=\"1\" class=\"dataframe\">\n",
       "  <thead>\n",
       " <tr style=\"text-align: left;\">\n",
       "      <th>Step</th>\n",
       "      <th>Training Loss</th>\n",
       "    </tr>\n",
       "  </thead>\n",
       "  <tbody>\n",
       "  </tbody>\n",
       "</table><p>"
      ],
      "text/plain": [
       "<IPython.core.display.HTML object>"
      ]
     },
     "metadata": {},
     "output_type": "display_data"
    },
    {
     "data": {
      "text/plain": [
       "TrainOutput(global_step=100, training_loss=0.015607467889785766, metrics={'train_runtime': 23.555, 'train_samples_per_second': 8.491, 'train_steps_per_second': 4.245, 'total_flos': 0.0, 'train_loss': 0.015607467889785766, 'epoch': 100.0})"
      ]
     },
     "execution_count": 16,
     "metadata": {},
     "output_type": "execute_result"
    }
   ],
   "source": [
    "from sentence_transformers import SentenceTransformer, SentenceTransformerTrainer, losses\n",
    "from sentence_transformers.training_args import SentenceTransformerTrainingArguments\n",
    "from datasets import Dataset\n",
    "\n",
    "model = SentenceTransformer(\"microsoft/mpnet-base\")\n",
    "train_dataset = Dataset.from_dict({\n",
    "    \"sentence1\": [\"It's nice weather outside today.\", \"He drove to work.\"],\n",
    "    \"sentence2\": [\"It's so sunny.\", \"She walked to the store.\"],\n",
    "    \"score\": [1.0, 0.3],\n",
    "})\n",
    "loss = losses.CosineSimilarityLoss(model)\n",
    "\n",
    "trining_args = SentenceTransformerTrainingArguments(\n",
    "    output_dir='./temp',\n",
    "    num_train_epochs=100,\n",
    ")\n",
    "\n",
    "trainer = SentenceTransformerTrainer(\n",
    "    model=model,\n",
    "    train_dataset=train_dataset,\n",
    "    loss=loss,\n",
    "    args=trining_args\n",
    ")\n",
    "trainer.train()"
   ]
  },
  {
   "cell_type": "code",
   "execution_count": 17,
   "metadata": {},
   "outputs": [],
   "source": [
    "query = model.encode(\"It's nice weather outside today.\")"
   ]
  },
  {
   "cell_type": "code",
   "execution_count": 18,
   "metadata": {},
   "outputs": [],
   "source": [
    "document = model.encode([\"It's so sunny.\", \"She walked to the store.\"])"
   ]
  },
  {
   "cell_type": "code",
   "execution_count": 15,
   "metadata": {},
   "outputs": [
    {
     "data": {
      "text/plain": [
       "[[{'corpus_id': 0, 'score': 0.963404655456543},\n",
       "  {'corpus_id': 1, 'score': 0.6799687147140503}]]"
      ]
     },
     "execution_count": 15,
     "metadata": {},
     "output_type": "execute_result"
    }
   ],
   "source": [
    "from sentence_transformers.util import semantic_search\n",
    "\n",
    "semantic_search(query_embeddings=query,\n",
    "                corpus_embeddings=document)"
   ]
  },
  {
   "cell_type": "code",
   "execution_count": 19,
   "metadata": {},
   "outputs": [
    {
     "data": {
      "text/plain": [
       "[[{'corpus_id': 0, 'score': 0.9955084919929504},\n",
       "  {'corpus_id': 1, 'score': 0.4990466237068176}]]"
      ]
     },
     "execution_count": 19,
     "metadata": {},
     "output_type": "execute_result"
    }
   ],
   "source": [
    "from sentence_transformers.util import semantic_search\n",
    "\n",
    "semantic_search(query_embeddings=query,\n",
    "                corpus_embeddings=document)"
   ]
  }
 ],
 "metadata": {
  "kernelspec": {
   "display_name": "senior_project",
   "language": "python",
   "name": "python3"
  },
  "language_info": {
   "codemirror_mode": {
    "name": "ipython",
    "version": 3
   },
   "file_extension": ".py",
   "mimetype": "text/x-python",
   "name": "python",
   "nbconvert_exporter": "python",
   "pygments_lexer": "ipython3",
   "version": "3.12.3"
  }
 },
 "nbformat": 4,
 "nbformat_minor": 2
}
